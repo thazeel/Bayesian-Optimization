{
 "cells": [
  {
   "cell_type": "code",
   "execution_count": 65,
   "metadata": {},
   "outputs": [],
   "source": [
    "import pandas as pd\n",
    "import numpy as np\n",
    "from sklearn.model_selection import train_test_split\n",
    "from sklearn.ensemble import RandomForestRegressor\n",
    "from sklearn.metrics import mean_squared_error\n",
    "from bayes_opt import BayesianOptimization\n"
   ]
  },
  {
   "cell_type": "code",
   "execution_count": 66,
   "metadata": {},
   "outputs": [],
   "source": [
    "csv_file_path = 'Data.csv'\n",
    "df = pd.read_csv(csv_file_path)\n",
    "\n",
    "df.fillna(0, inplace=True)\n",
    "\n",
    "\n",
    "X = df.iloc[:, :-1]\n",
    "y = df.iloc[:, -1]\n"
   ]
  },
  {
   "cell_type": "code",
   "execution_count": 67,
   "metadata": {},
   "outputs": [],
   "source": [
    "def optimize_rf(n_estimators, max_depth):\n",
    "    n_estimators = int(n_estimators)\n",
    "    max_depth = int(max_depth)\n",
    "    \n",
    "    X_train, X_val, y_train, y_val = train_test_split(X, y, test_size=0.2, random_state=42)\n",
    "\n",
    "    regressor = RandomForestRegressor(n_estimators=n_estimators, max_depth=max_depth, random_state=42)\n",
    "    regressor.fit(X_train, y_train)\n",
    "    \n",
    "    y_pred = regressor.predict(X_val)\n",
    "    mse = mean_squared_error(y_val, y_pred)\n",
    "    \n",
    "    return -mse\n"
   ]
  },
  {
   "cell_type": "code",
   "execution_count": 68,
   "metadata": {},
   "outputs": [
    {
     "name": "stdout",
     "output_type": "stream",
     "text": [
      "|   iter    |  target   | max_depth | n_esti... |\n",
      "-------------------------------------------------\n",
      "| \u001b[0m1        \u001b[0m | \u001b[0m-29.09   \u001b[0m | \u001b[0m10.62    \u001b[0m | \u001b[0m192.6    \u001b[0m |\n",
      "| \u001b[95m2        \u001b[0m | \u001b[95m-18.31   \u001b[0m | \u001b[95m15.98    \u001b[0m | \u001b[95m139.8    \u001b[0m |\n",
      "| \u001b[0m3        \u001b[0m | \u001b[0m-45.51   \u001b[0m | \u001b[0m7.34     \u001b[0m | \u001b[0m73.4     \u001b[0m |\n",
      "| \u001b[0m4        \u001b[0m | \u001b[0m-61.71   \u001b[0m | \u001b[0m5.871    \u001b[0m | \u001b[0m179.9    \u001b[0m |\n",
      "| \u001b[0m5        \u001b[0m | \u001b[0m-19.46   \u001b[0m | \u001b[0m14.02    \u001b[0m | \u001b[0m156.2    \u001b[0m |\n",
      "| \u001b[0m6        \u001b[0m | \u001b[0m-61.8    \u001b[0m | \u001b[0m5.309    \u001b[0m | \u001b[0m195.5    \u001b[0m |\n",
      "| \u001b[95m7        \u001b[0m | \u001b[95m-16.95   \u001b[0m | \u001b[95m17.49    \u001b[0m | \u001b[95m81.85    \u001b[0m |\n",
      "| \u001b[0m8        \u001b[0m | \u001b[0m-45.49   \u001b[0m | \u001b[0m7.727    \u001b[0m | \u001b[0m77.51    \u001b[0m |\n",
      "| \u001b[0m9        \u001b[0m | \u001b[0m-33.44   \u001b[0m | \u001b[0m9.564    \u001b[0m | \u001b[0m128.7    \u001b[0m |\n",
      "| \u001b[0m10       \u001b[0m | \u001b[0m-25.87   \u001b[0m | \u001b[0m11.48    \u001b[0m | \u001b[0m93.68    \u001b[0m |\n",
      "| \u001b[0m11       \u001b[0m | \u001b[0m-17.54   \u001b[0m | \u001b[0m16.72    \u001b[0m | \u001b[0m84.94    \u001b[0m |\n",
      "| \u001b[0m12       \u001b[0m | \u001b[0m-18.31   \u001b[0m | \u001b[0m15.03    \u001b[0m | \u001b[0m147.7    \u001b[0m |\n",
      "| \u001b[0m13       \u001b[0m | \u001b[0m-45.58   \u001b[0m | \u001b[0m7.597    \u001b[0m | \u001b[0m144.1    \u001b[0m |\n",
      "| \u001b[95m14       \u001b[0m | \u001b[95m-16.17   \u001b[0m | \u001b[95m19.88    \u001b[0m | \u001b[95m144.3    \u001b[0m |\n",
      "| \u001b[95m15       \u001b[0m | \u001b[95m-16.16   \u001b[0m | \u001b[95m19.83    \u001b[0m | \u001b[95m152.8    \u001b[0m |\n",
      "| \u001b[95m16       \u001b[0m | \u001b[95m-15.93   \u001b[0m | \u001b[95m20.0     \u001b[0m | \u001b[95m192.7    \u001b[0m |\n",
      "| \u001b[95m17       \u001b[0m | \u001b[95m-15.92   \u001b[0m | \u001b[95m20.0     \u001b[0m | \u001b[95m200.0    \u001b[0m |\n",
      "| \u001b[0m18       \u001b[0m | \u001b[0m-16.24   \u001b[0m | \u001b[0m19.91    \u001b[0m | \u001b[0m106.1    \u001b[0m |\n",
      "| \u001b[0m19       \u001b[0m | \u001b[0m-33.49   \u001b[0m | \u001b[0m9.382    \u001b[0m | \u001b[0m109.4    \u001b[0m |\n",
      "| \u001b[0m20       \u001b[0m | \u001b[0m-16.04   \u001b[0m | \u001b[0m20.0     \u001b[0m | \u001b[0m96.75    \u001b[0m |\n",
      "| \u001b[0m21       \u001b[0m | \u001b[0m-16.25   \u001b[0m | \u001b[0m20.0     \u001b[0m | \u001b[0m50.0     \u001b[0m |\n",
      "| \u001b[0m22       \u001b[0m | \u001b[0m-38.95   \u001b[0m | \u001b[0m8.592    \u001b[0m | \u001b[0m50.0     \u001b[0m |\n",
      "| \u001b[0m23       \u001b[0m | \u001b[0m-16.23   \u001b[0m | \u001b[0m20.0     \u001b[0m | \u001b[0m60.24    \u001b[0m |\n",
      "| \u001b[0m24       \u001b[0m | \u001b[0m-15.94   \u001b[0m | \u001b[0m20.0     \u001b[0m | \u001b[0m164.9    \u001b[0m |\n",
      "| \u001b[0m25       \u001b[0m | \u001b[0m-16.0    \u001b[0m | \u001b[0m20.0     \u001b[0m | \u001b[0m118.1    \u001b[0m |\n",
      "| \u001b[0m26       \u001b[0m | \u001b[0m-15.99   \u001b[0m | \u001b[0m20.0     \u001b[0m | \u001b[0m130.3    \u001b[0m |\n",
      "| \u001b[0m27       \u001b[0m | \u001b[0m-16.34   \u001b[0m | \u001b[0m19.89    \u001b[0m | \u001b[0m69.71    \u001b[0m |\n",
      "| \u001b[0m28       \u001b[0m | \u001b[0m-15.93   \u001b[0m | \u001b[0m20.0     \u001b[0m | \u001b[0m176.1    \u001b[0m |\n",
      "| \u001b[0m29       \u001b[0m | \u001b[0m-16.12   \u001b[0m | \u001b[0m19.41    \u001b[0m | \u001b[0m185.0    \u001b[0m |\n",
      "| \u001b[0m30       \u001b[0m | \u001b[0m-61.8    \u001b[0m | \u001b[0m5.255    \u001b[0m | \u001b[0m162.2    \u001b[0m |\n",
      "| \u001b[0m31       \u001b[0m | \u001b[0m-16.07   \u001b[0m | \u001b[0m20.0     \u001b[0m | \u001b[0m88.92    \u001b[0m |\n",
      "| \u001b[0m32       \u001b[0m | \u001b[0m-16.18   \u001b[0m | \u001b[0m19.88    \u001b[0m | \u001b[0m136.8    \u001b[0m |\n",
      "| \u001b[0m33       \u001b[0m | \u001b[0m-15.94   \u001b[0m | \u001b[0m20.0     \u001b[0m | \u001b[0m159.1    \u001b[0m |\n",
      "| \u001b[0m34       \u001b[0m | \u001b[0m-16.3    \u001b[0m | \u001b[0m19.91    \u001b[0m | \u001b[0m76.75    \u001b[0m |\n",
      "| \u001b[0m35       \u001b[0m | \u001b[0m-16.0    \u001b[0m | \u001b[0m20.0     \u001b[0m | \u001b[0m124.0    \u001b[0m |\n",
      "| \u001b[0m36       \u001b[0m | \u001b[0m-17.41   \u001b[0m | \u001b[0m16.2     \u001b[0m | \u001b[0m196.4    \u001b[0m |\n",
      "| \u001b[0m37       \u001b[0m | \u001b[0m-16.23   \u001b[0m | \u001b[0m19.86    \u001b[0m | \u001b[0m111.3    \u001b[0m |\n",
      "| \u001b[0m38       \u001b[0m | \u001b[0m-16.04   \u001b[0m | \u001b[0m20.0     \u001b[0m | \u001b[0m83.32    \u001b[0m |\n",
      "| \u001b[0m39       \u001b[0m | \u001b[0m-16.25   \u001b[0m | \u001b[0m20.0     \u001b[0m | \u001b[0m54.82    \u001b[0m |\n",
      "| \u001b[0m40       \u001b[0m | \u001b[0m-17.42   \u001b[0m | \u001b[0m16.17    \u001b[0m | \u001b[0m189.5    \u001b[0m |\n",
      "=================================================\n",
      "Optimized Hyperparameters: n_estimators = 200, max_depth = 20\n",
      "Minimum Mean Squared Error: 15.919211516818946\n"
     ]
    }
   ],
   "source": [
    "pbounds = {'n_estimators': (50, 200),\n",
    "           'max_depth': (5, 20)}\n",
    "\n",
    "optimizer = BayesianOptimization(f=optimize_rf, pbounds=pbounds, random_state=42)\n",
    "optimizer.maximize(init_points=10, n_iter=30)\n",
    "\n",
    "best_params = optimizer.max['params']\n",
    "best_n_estimators = int(best_params['n_estimators'])\n",
    "best_max_depth = int(best_params['max_depth'])\n",
    "min_mse = -optimizer.max['target']\n",
    "\n",
    "print(f\"Optimized Hyperparameters: n_estimators = {best_n_estimators}, max_depth = {best_max_depth}\")\n",
    "print(f\"Minimum Mean Squared Error: {min_mse}\")\n"
   ]
  },
  {
   "cell_type": "code",
   "execution_count": null,
   "metadata": {},
   "outputs": [],
   "source": []
  }
 ],
 "metadata": {
  "kernelspec": {
   "display_name": "Python 3",
   "language": "python",
   "name": "python3"
  },
  "language_info": {
   "codemirror_mode": {
    "name": "ipython",
    "version": 3
   },
   "file_extension": ".py",
   "mimetype": "text/x-python",
   "name": "python",
   "nbconvert_exporter": "python",
   "pygments_lexer": "ipython3",
   "version": "3.11.3"
  },
  "orig_nbformat": 4
 },
 "nbformat": 4,
 "nbformat_minor": 2
}
